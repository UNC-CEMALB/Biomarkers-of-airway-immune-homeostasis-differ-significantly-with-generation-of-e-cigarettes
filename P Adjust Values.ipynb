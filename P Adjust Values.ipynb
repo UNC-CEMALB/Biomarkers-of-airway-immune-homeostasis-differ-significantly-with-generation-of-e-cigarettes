{
 "cells": [
  {
   "cell_type": "code",
   "execution_count": 1,
   "id": "5c49b4fa",
   "metadata": {},
   "outputs": [
    {
     "name": "stderr",
     "output_type": "stream",
     "text": [
      "── \u001b[1mAttaching packages\u001b[22m ─────────────────────────────────────── tidyverse 1.3.1 ──\n",
      "\n",
      "\u001b[32m✔\u001b[39m \u001b[34mggplot2\u001b[39m 3.3.5     \u001b[32m✔\u001b[39m \u001b[34mpurrr  \u001b[39m 0.3.4\n",
      "\u001b[32m✔\u001b[39m \u001b[34mtibble \u001b[39m 3.1.6     \u001b[32m✔\u001b[39m \u001b[34mdplyr  \u001b[39m 1.0.8\n",
      "\u001b[32m✔\u001b[39m \u001b[34mtidyr  \u001b[39m 1.2.0     \u001b[32m✔\u001b[39m \u001b[34mstringr\u001b[39m 1.4.0\n",
      "\u001b[32m✔\u001b[39m \u001b[34mreadr  \u001b[39m 2.1.2     \u001b[32m✔\u001b[39m \u001b[34mforcats\u001b[39m 0.5.1\n",
      "\n",
      "── \u001b[1mConflicts\u001b[22m ────────────────────────────────────────── tidyverse_conflicts() ──\n",
      "\u001b[31m✖\u001b[39m \u001b[34mdplyr\u001b[39m::\u001b[32mfilter()\u001b[39m masks \u001b[34mstats\u001b[39m::filter()\n",
      "\u001b[31m✖\u001b[39m \u001b[34mdplyr\u001b[39m::\u001b[32mlag()\u001b[39m    masks \u001b[34mstats\u001b[39m::lag()\n",
      "\n",
      "\n",
      "Attaching package: ‘rstatix’\n",
      "\n",
      "\n",
      "The following object is masked from ‘package:stats’:\n",
      "\n",
      "    filter\n",
      "\n",
      "\n",
      "\n",
      "Attaching package: ‘reshape2’\n",
      "\n",
      "\n",
      "The following object is masked from ‘package:tidyr’:\n",
      "\n",
      "    smiths\n",
      "\n",
      "\n",
      "Loading required package: carData\n",
      "\n",
      "\n",
      "Attaching package: ‘car’\n",
      "\n",
      "\n",
      "The following object is masked from ‘package:dplyr’:\n",
      "\n",
      "    recode\n",
      "\n",
      "\n",
      "The following object is masked from ‘package:purrr’:\n",
      "\n",
      "    some\n",
      "\n",
      "\n"
     ]
    }
   ],
   "source": [
    "library(readxl)\n",
    "library(tidyverse)\n",
    "library(rstatix) # for Dunn's test\n",
    "library(reshape2)\n",
    "library(car) #package necessary to run anova and specify type III errors\n",
    "setwd('/Users/alexis/IEHS Dropbox/Rager Lab/Alexis_Payton/Experiments/6. Elise\\'s Project/6.1. Adjusted P Values')"
   ]
  },
  {
   "cell_type": "code",
   "execution_count": 2,
   "id": "e53c29ae",
   "metadata": {},
   "outputs": [
    {
     "data": {
      "text/html": [
       "<table class=\"dataframe\">\n",
       "<caption>A data.frame: 6 × 47</caption>\n",
       "<thead>\n",
       "\t<tr><th></th><th scope=col>Subject_ID</th><th scope=col>Device</th><th scope=col>IL1B</th><th scope=col>IL6</th><th scope=col>IL8</th><th scope=col>TNFa</th><th scope=col>MMP2</th><th scope=col>MMP9</th><th scope=col>MPO</th><th scope=col>NE</th><th scope=col>⋯</th><th scope=col>MIP1a</th><th scope=col>MIP1B</th><th scope=col>TARC</th><th scope=col>bFGF</th><th scope=col>Flt1</th><th scope=col>PIGF</th><th scope=col>Tie2</th><th scope=col>VEGFC</th><th scope=col>VEGFD</th><th scope=col>VEGF</th></tr>\n",
       "\t<tr><th></th><th scope=col>&lt;chr&gt;</th><th scope=col>&lt;chr&gt;</th><th scope=col>&lt;dbl&gt;</th><th scope=col>&lt;dbl&gt;</th><th scope=col>&lt;dbl&gt;</th><th scope=col>&lt;dbl&gt;</th><th scope=col>&lt;dbl&gt;</th><th scope=col>&lt;dbl&gt;</th><th scope=col>&lt;dbl&gt;</th><th scope=col>&lt;dbl&gt;</th><th scope=col>⋯</th><th scope=col>&lt;dbl&gt;</th><th scope=col>&lt;dbl&gt;</th><th scope=col>&lt;dbl&gt;</th><th scope=col>&lt;dbl&gt;</th><th scope=col>&lt;dbl&gt;</th><th scope=col>&lt;dbl&gt;</th><th scope=col>&lt;dbl&gt;</th><th scope=col>&lt;dbl&gt;</th><th scope=col>&lt;dbl&gt;</th><th scope=col>&lt;dbl&gt;</th></tr>\n",
       "</thead>\n",
       "<tbody>\n",
       "\t<tr><th scope=row>1</th><td>CA_001</td><td>NS/NV  </td><td> 22.160324</td><td> 0.000000</td><td>  443.36981</td><td> 2.323988</td><td>     0.00</td><td> 149694.090</td><td>1244612.30</td><td> 60007.688</td><td>⋯</td><td> 0.000000</td><td> 0.00000</td><td>0.000000</td><td>  2.6072384</td><td> 34.57635</td><td>0.6930062</td><td>0</td><td>   0.000</td><td>  0.00000</td><td> 36.773</td></tr>\n",
       "\t<tr><th scope=row>2</th><td>CA_004</td><td>NS/NV  </td><td> 11.900966</td><td> 0.402586</td><td>  434.97369</td><td> 1.493960</td><td>     0.00</td><td>  49942.969</td><td> 189463.93</td><td>128626.299</td><td>⋯</td><td> 0.000000</td><td> 0.00000</td><td>0.000000</td><td>  3.0455254</td><td> 19.72112</td><td>0.0000000</td><td>0</td><td>   0.000</td><td>  0.00000</td><td>202.390</td></tr>\n",
       "\t<tr><th scope=row>3</th><td>CA_005</td><td>NS/NV  </td><td> 59.725809</td><td>44.571240</td><td> 2534.21002</td><td> 5.286530</td><td>134533.87</td><td> 419045.656</td><td>1634252.49</td><td>827759.205</td><td>⋯</td><td> 7.587209</td><td>17.09581</td><td>1.861665</td><td> 32.6238660</td><td>163.24190</td><td>2.8183238</td><td>0</td><td> 421.748</td><td>296.05379</td><td>753.540</td></tr>\n",
       "\t<tr><th scope=row>4</th><td>CA_006</td><td>NS/NV  </td><td>  4.195704</td><td> 0.000000</td><td>   93.43214</td><td> 0.000000</td><td>     0.00</td><td>   7314.684</td><td>  62439.25</td><td>  1685.938</td><td>⋯</td><td> 0.000000</td><td> 0.00000</td><td>0.000000</td><td>  1.6172160</td><td> 18.84291</td><td>0.0000000</td><td>0</td><td>   0.000</td><td>  0.00000</td><td> 13.115</td></tr>\n",
       "\t<tr><th scope=row>5</th><td>CA_008</td><td>NS/NV  </td><td>108.562329</td><td>10.401007</td><td> 1230.45746</td><td> 2.531193</td><td>  1846.45</td><td> 207838.128</td><td>2207070.70</td><td>151337.112</td><td>⋯</td><td> 7.587209</td><td>16.10194</td><td>0.000000</td><td>  0.6185674</td><td> 18.84291</td><td>0.0000000</td><td>0</td><td>   0.000</td><td>  0.00000</td><td>747.850</td></tr>\n",
       "\t<tr><th scope=row>6</th><td>CA_009</td><td>4th Gen</td><td>251.857446</td><td>66.319425</td><td>11015.01379</td><td>23.168781</td><td> 10899.47</td><td>2007683.962</td><td>5784581.26</td><td>699896.405</td><td>⋯</td><td>28.942287</td><td>19.93613</td><td>1.607421</td><td>119.2757727</td><td>172.59075</td><td>0.0000000</td><td>0</td><td>1257.001</td><td> 34.26977</td><td>302.490</td></tr>\n",
       "</tbody>\n",
       "</table>\n"
      ],
      "text/latex": [
       "A data.frame: 6 × 47\n",
       "\\begin{tabular}{r|lllllllllllllllllllll}\n",
       "  & Subject\\_ID & Device & IL1B & IL6 & IL8 & TNFa & MMP2 & MMP9 & MPO & NE & ⋯ & MIP1a & MIP1B & TARC & bFGF & Flt1 & PIGF & Tie2 & VEGFC & VEGFD & VEGF\\\\\n",
       "  & <chr> & <chr> & <dbl> & <dbl> & <dbl> & <dbl> & <dbl> & <dbl> & <dbl> & <dbl> & ⋯ & <dbl> & <dbl> & <dbl> & <dbl> & <dbl> & <dbl> & <dbl> & <dbl> & <dbl> & <dbl>\\\\\n",
       "\\hline\n",
       "\t1 & CA\\_001 & NS/NV   &  22.160324 &  0.000000 &   443.36981 &  2.323988 &      0.00 &  149694.090 & 1244612.30 &  60007.688 & ⋯ &  0.000000 &  0.00000 & 0.000000 &   2.6072384 &  34.57635 & 0.6930062 & 0 &    0.000 &   0.00000 &  36.773\\\\\n",
       "\t2 & CA\\_004 & NS/NV   &  11.900966 &  0.402586 &   434.97369 &  1.493960 &      0.00 &   49942.969 &  189463.93 & 128626.299 & ⋯ &  0.000000 &  0.00000 & 0.000000 &   3.0455254 &  19.72112 & 0.0000000 & 0 &    0.000 &   0.00000 & 202.390\\\\\n",
       "\t3 & CA\\_005 & NS/NV   &  59.725809 & 44.571240 &  2534.21002 &  5.286530 & 134533.87 &  419045.656 & 1634252.49 & 827759.205 & ⋯ &  7.587209 & 17.09581 & 1.861665 &  32.6238660 & 163.24190 & 2.8183238 & 0 &  421.748 & 296.05379 & 753.540\\\\\n",
       "\t4 & CA\\_006 & NS/NV   &   4.195704 &  0.000000 &    93.43214 &  0.000000 &      0.00 &    7314.684 &   62439.25 &   1685.938 & ⋯ &  0.000000 &  0.00000 & 0.000000 &   1.6172160 &  18.84291 & 0.0000000 & 0 &    0.000 &   0.00000 &  13.115\\\\\n",
       "\t5 & CA\\_008 & NS/NV   & 108.562329 & 10.401007 &  1230.45746 &  2.531193 &   1846.45 &  207838.128 & 2207070.70 & 151337.112 & ⋯ &  7.587209 & 16.10194 & 0.000000 &   0.6185674 &  18.84291 & 0.0000000 & 0 &    0.000 &   0.00000 & 747.850\\\\\n",
       "\t6 & CA\\_009 & 4th Gen & 251.857446 & 66.319425 & 11015.01379 & 23.168781 &  10899.47 & 2007683.962 & 5784581.26 & 699896.405 & ⋯ & 28.942287 & 19.93613 & 1.607421 & 119.2757727 & 172.59075 & 0.0000000 & 0 & 1257.001 &  34.26977 & 302.490\\\\\n",
       "\\end{tabular}\n"
      ],
      "text/markdown": [
       "\n",
       "A data.frame: 6 × 47\n",
       "\n",
       "| <!--/--> | Subject_ID &lt;chr&gt; | Device &lt;chr&gt; | IL1B &lt;dbl&gt; | IL6 &lt;dbl&gt; | IL8 &lt;dbl&gt; | TNFa &lt;dbl&gt; | MMP2 &lt;dbl&gt; | MMP9 &lt;dbl&gt; | MPO &lt;dbl&gt; | NE &lt;dbl&gt; | ⋯ ⋯ | MIP1a &lt;dbl&gt; | MIP1B &lt;dbl&gt; | TARC &lt;dbl&gt; | bFGF &lt;dbl&gt; | Flt1 &lt;dbl&gt; | PIGF &lt;dbl&gt; | Tie2 &lt;dbl&gt; | VEGFC &lt;dbl&gt; | VEGFD &lt;dbl&gt; | VEGF &lt;dbl&gt; |\n",
       "|---|---|---|---|---|---|---|---|---|---|---|---|---|---|---|---|---|---|---|---|---|---|\n",
       "| 1 | CA_001 | NS/NV   |  22.160324 |  0.000000 |   443.36981 |  2.323988 |      0.00 |  149694.090 | 1244612.30 |  60007.688 | ⋯ |  0.000000 |  0.00000 | 0.000000 |   2.6072384 |  34.57635 | 0.6930062 | 0 |    0.000 |   0.00000 |  36.773 |\n",
       "| 2 | CA_004 | NS/NV   |  11.900966 |  0.402586 |   434.97369 |  1.493960 |      0.00 |   49942.969 |  189463.93 | 128626.299 | ⋯ |  0.000000 |  0.00000 | 0.000000 |   3.0455254 |  19.72112 | 0.0000000 | 0 |    0.000 |   0.00000 | 202.390 |\n",
       "| 3 | CA_005 | NS/NV   |  59.725809 | 44.571240 |  2534.21002 |  5.286530 | 134533.87 |  419045.656 | 1634252.49 | 827759.205 | ⋯ |  7.587209 | 17.09581 | 1.861665 |  32.6238660 | 163.24190 | 2.8183238 | 0 |  421.748 | 296.05379 | 753.540 |\n",
       "| 4 | CA_006 | NS/NV   |   4.195704 |  0.000000 |    93.43214 |  0.000000 |      0.00 |    7314.684 |   62439.25 |   1685.938 | ⋯ |  0.000000 |  0.00000 | 0.000000 |   1.6172160 |  18.84291 | 0.0000000 | 0 |    0.000 |   0.00000 |  13.115 |\n",
       "| 5 | CA_008 | NS/NV   | 108.562329 | 10.401007 |  1230.45746 |  2.531193 |   1846.45 |  207838.128 | 2207070.70 | 151337.112 | ⋯ |  7.587209 | 16.10194 | 0.000000 |   0.6185674 |  18.84291 | 0.0000000 | 0 |    0.000 |   0.00000 | 747.850 |\n",
       "| 6 | CA_009 | 4th Gen | 251.857446 | 66.319425 | 11015.01379 | 23.168781 |  10899.47 | 2007683.962 | 5784581.26 | 699896.405 | ⋯ | 28.942287 | 19.93613 | 1.607421 | 119.2757727 | 172.59075 | 0.0000000 | 0 | 1257.001 |  34.26977 | 302.490 |\n",
       "\n"
      ],
      "text/plain": [
       "  Subject_ID Device  IL1B       IL6       IL8         TNFa      MMP2     \n",
       "1 CA_001     NS/NV    22.160324  0.000000   443.36981  2.323988      0.00\n",
       "2 CA_004     NS/NV    11.900966  0.402586   434.97369  1.493960      0.00\n",
       "3 CA_005     NS/NV    59.725809 44.571240  2534.21002  5.286530 134533.87\n",
       "4 CA_006     NS/NV     4.195704  0.000000    93.43214  0.000000      0.00\n",
       "5 CA_008     NS/NV   108.562329 10.401007  1230.45746  2.531193   1846.45\n",
       "6 CA_009     4th Gen 251.857446 66.319425 11015.01379 23.168781  10899.47\n",
       "  MMP9        MPO        NE         ⋯ MIP1a     MIP1B    TARC     bFGF       \n",
       "1  149694.090 1244612.30  60007.688 ⋯  0.000000  0.00000 0.000000   2.6072384\n",
       "2   49942.969  189463.93 128626.299 ⋯  0.000000  0.00000 0.000000   3.0455254\n",
       "3  419045.656 1634252.49 827759.205 ⋯  7.587209 17.09581 1.861665  32.6238660\n",
       "4    7314.684   62439.25   1685.938 ⋯  0.000000  0.00000 0.000000   1.6172160\n",
       "5  207838.128 2207070.70 151337.112 ⋯  7.587209 16.10194 0.000000   0.6185674\n",
       "6 2007683.962 5784581.26 699896.405 ⋯ 28.942287 19.93613 1.607421 119.2757727\n",
       "  Flt1      PIGF      Tie2 VEGFC    VEGFD     VEGF   \n",
       "1  34.57635 0.6930062 0       0.000   0.00000  36.773\n",
       "2  19.72112 0.0000000 0       0.000   0.00000 202.390\n",
       "3 163.24190 2.8183238 0     421.748 296.05379 753.540\n",
       "4  18.84291 0.0000000 0       0.000   0.00000  13.115\n",
       "5  18.84291 0.0000000 0       0.000   0.00000 747.850\n",
       "6 172.59075 0.0000000 0    1257.001  34.26977 302.490"
      ]
     },
     "metadata": {},
     "output_type": "display_data"
    },
    {
     "data": {
      "text/html": [
       "<table class=\"dataframe\">\n",
       "<caption>A data.frame: 6 × 8</caption>\n",
       "<thead>\n",
       "\t<tr><th></th><th scope=col>Subject.ID</th><th scope=col>Device</th><th scope=col>Sex</th><th scope=col>Race</th><th scope=col>Hispanic.</th><th scope=col>Age</th><th scope=col>BMI</th><th scope=col>Serum.Cotinine..ng.mL..ELISA</th></tr>\n",
       "\t<tr><th></th><th scope=col>&lt;chr&gt;</th><th scope=col>&lt;chr&gt;</th><th scope=col>&lt;chr&gt;</th><th scope=col>&lt;chr&gt;</th><th scope=col>&lt;chr&gt;</th><th scope=col>&lt;int&gt;</th><th scope=col>&lt;dbl&gt;</th><th scope=col>&lt;dbl&gt;</th></tr>\n",
       "</thead>\n",
       "<tbody>\n",
       "\t<tr><th scope=row>1</th><td>CA 001</td><td>NS/NV  </td><td>F</td><td>W</td><td>NO </td><td>22</td><td>27.3</td><td>NA</td></tr>\n",
       "\t<tr><th scope=row>2</th><td>CA 004</td><td>NS/NV  </td><td>F</td><td>W</td><td>NO </td><td>22</td><td>20.5</td><td>NA</td></tr>\n",
       "\t<tr><th scope=row>3</th><td>CA 005</td><td>NS/NV  </td><td>F</td><td>W</td><td>NO </td><td>21</td><td>25.3</td><td> 0</td></tr>\n",
       "\t<tr><th scope=row>4</th><td>CA 006</td><td>NS/NV  </td><td>M</td><td>W</td><td>YES</td><td>21</td><td>27.9</td><td>NA</td></tr>\n",
       "\t<tr><th scope=row>5</th><td>CA 008</td><td>NS/NV  </td><td>M</td><td>B</td><td>NO </td><td>27</td><td>31.8</td><td>NA</td></tr>\n",
       "\t<tr><th scope=row>6</th><td>CA 009</td><td>4th Gen</td><td>M</td><td>W</td><td>NO </td><td>19</td><td>20.1</td><td>NA</td></tr>\n",
       "</tbody>\n",
       "</table>\n"
      ],
      "text/latex": [
       "A data.frame: 6 × 8\n",
       "\\begin{tabular}{r|llllllll}\n",
       "  & Subject.ID & Device & Sex & Race & Hispanic. & Age & BMI & Serum.Cotinine..ng.mL..ELISA\\\\\n",
       "  & <chr> & <chr> & <chr> & <chr> & <chr> & <int> & <dbl> & <dbl>\\\\\n",
       "\\hline\n",
       "\t1 & CA 001 & NS/NV   & F & W & NO  & 22 & 27.3 & NA\\\\\n",
       "\t2 & CA 004 & NS/NV   & F & W & NO  & 22 & 20.5 & NA\\\\\n",
       "\t3 & CA 005 & NS/NV   & F & W & NO  & 21 & 25.3 &  0\\\\\n",
       "\t4 & CA 006 & NS/NV   & M & W & YES & 21 & 27.9 & NA\\\\\n",
       "\t5 & CA 008 & NS/NV   & M & B & NO  & 27 & 31.8 & NA\\\\\n",
       "\t6 & CA 009 & 4th Gen & M & W & NO  & 19 & 20.1 & NA\\\\\n",
       "\\end{tabular}\n"
      ],
      "text/markdown": [
       "\n",
       "A data.frame: 6 × 8\n",
       "\n",
       "| <!--/--> | Subject.ID &lt;chr&gt; | Device &lt;chr&gt; | Sex &lt;chr&gt; | Race &lt;chr&gt; | Hispanic. &lt;chr&gt; | Age &lt;int&gt; | BMI &lt;dbl&gt; | Serum.Cotinine..ng.mL..ELISA &lt;dbl&gt; |\n",
       "|---|---|---|---|---|---|---|---|---|\n",
       "| 1 | CA 001 | NS/NV   | F | W | NO  | 22 | 27.3 | NA |\n",
       "| 2 | CA 004 | NS/NV   | F | W | NO  | 22 | 20.5 | NA |\n",
       "| 3 | CA 005 | NS/NV   | F | W | NO  | 21 | 25.3 |  0 |\n",
       "| 4 | CA 006 | NS/NV   | M | W | YES | 21 | 27.9 | NA |\n",
       "| 5 | CA 008 | NS/NV   | M | B | NO  | 27 | 31.8 | NA |\n",
       "| 6 | CA 009 | 4th Gen | M | W | NO  | 19 | 20.1 | NA |\n",
       "\n"
      ],
      "text/plain": [
       "  Subject.ID Device  Sex Race Hispanic. Age BMI  Serum.Cotinine..ng.mL..ELISA\n",
       "1 CA 001     NS/NV   F   W    NO        22  27.3 NA                          \n",
       "2 CA 004     NS/NV   F   W    NO        22  20.5 NA                          \n",
       "3 CA 005     NS/NV   F   W    NO        21  25.3  0                          \n",
       "4 CA 006     NS/NV   M   W    YES       21  27.9 NA                          \n",
       "5 CA 008     NS/NV   M   B    NO        27  31.8 NA                          \n",
       "6 CA 009     4th Gen M   W    NO        19  20.1 NA                          "
      ]
     },
     "metadata": {},
     "output_type": "display_data"
    }
   ],
   "source": [
    "# Import data table as data frame and make Subject IDs row labels.\n",
    "MediatorData <- data.frame(read_excel(\"Input Data/2021_06_29 IS Project Mediators.xlsx\"))\n",
    "DemographicData <- read.csv(\"Input Data/2021_06_15 IS Project Demographics.csv\")\n",
    "\n",
    "head(MediatorData)\n",
    "head(DemographicData)"
   ]
  },
  {
   "cell_type": "code",
   "execution_count": 3,
   "id": "88a0b054",
   "metadata": {},
   "outputs": [
    {
     "data": {
      "text/html": [
       "<table class=\"dataframe\">\n",
       "<caption>A data.frame: 6 × 44</caption>\n",
       "<thead>\n",
       "\t<tr><th></th><th scope=col>Device</th><th scope=col>Albumin</th><th scope=col>CRP</th><th scope=col>Eotaxin</th><th scope=col>Eotaxin3</th><th scope=col>Flt1</th><th scope=col>GMCSF</th><th scope=col>IFNg</th><th scope=col>IL10</th><th scope=col>IL12p40</th><th scope=col>⋯</th><th scope=col>TNFa</th><th scope=col>Tie2</th><th scope=col>Uteroglobin</th><th scope=col>VEGF</th><th scope=col>VEGFC</th><th scope=col>VEGFD</th><th scope=col>bFGF</th><th scope=col>dsDNA</th><th scope=col>sICAM1</th><th scope=col>sVCAM1</th></tr>\n",
       "\t<tr><th></th><th scope=col>&lt;fct&gt;</th><th scope=col>&lt;dbl&gt;</th><th scope=col>&lt;dbl&gt;</th><th scope=col>&lt;dbl&gt;</th><th scope=col>&lt;dbl&gt;</th><th scope=col>&lt;dbl&gt;</th><th scope=col>&lt;dbl&gt;</th><th scope=col>&lt;dbl&gt;</th><th scope=col>&lt;dbl&gt;</th><th scope=col>&lt;dbl&gt;</th><th scope=col>⋯</th><th scope=col>&lt;dbl&gt;</th><th scope=col>&lt;dbl&gt;</th><th scope=col>&lt;dbl&gt;</th><th scope=col>&lt;dbl&gt;</th><th scope=col>&lt;dbl&gt;</th><th scope=col>&lt;dbl&gt;</th><th scope=col>&lt;dbl&gt;</th><th scope=col>&lt;dbl&gt;</th><th scope=col>&lt;dbl&gt;</th><th scope=col>&lt;dbl&gt;</th></tr>\n",
       "</thead>\n",
       "<tbody>\n",
       "\t<tr><th scope=row>CA_001</th><td>NS/NV  </td><td>  6050.353</td><td>  1.624004</td><td>  3.063601</td><td>0.1497121</td><td> 34.57635</td><td>2.8684272</td><td>0.35019</td><td>0.4383821</td><td>  0.3769871</td><td>⋯</td><td> 2.3239884</td><td>4.391904</td><td>   86614.15</td><td> 36.773</td><td>   6.249917</td><td>  2.904066</td><td>  2.6072384</td><td> 732641.62</td><td>  59.76169</td><td> 484.5604</td></tr>\n",
       "\t<tr><th scope=row>CA_004</th><td>NS/NV  </td><td>  5676.526</td><td>  1.624004</td><td>  3.063601</td><td>0.1497121</td><td> 19.72112</td><td>0.0750228</td><td>0.35019</td><td>0.4908329</td><td>  3.5529171</td><td>⋯</td><td> 1.4939595</td><td>4.391904</td><td>  142763.90</td><td>202.390</td><td>   6.249917</td><td>  2.904066</td><td>  3.0455254</td><td> 484265.39</td><td> 156.55747</td><td> 278.8425</td></tr>\n",
       "\t<tr><th scope=row>CA_005</th><td>NS/NV  </td><td> 63070.352</td><td> 25.175647</td><td>  3.063601</td><td>0.1497121</td><td>163.24190</td><td>1.3472141</td><td>0.35019</td><td>0.5434500</td><td> 45.1865518</td><td>⋯</td><td> 5.2865301</td><td>4.391904</td><td>27853666.44</td><td>753.540</td><td> 421.748017</td><td>296.053788</td><td> 32.6238660</td><td>2966355.10</td><td>5083.30967</td><td> 980.6836</td></tr>\n",
       "\t<tr><th scope=row>CA_006</th><td>NS/NV  </td><td>   103.468</td><td>  1.624004</td><td> 70.163381</td><td>0.1497121</td><td> 18.84291</td><td>0.7748752</td><td>0.35019</td><td>0.3133017</td><td>  0.1421193</td><td>⋯</td><td> 0.4151426</td><td>4.391904</td><td>  388568.51</td><td> 13.115</td><td>   6.249917</td><td>  2.904066</td><td>  1.6172160</td><td>  29327.11</td><td>  85.61421</td><td> 484.5604</td></tr>\n",
       "\t<tr><th scope=row>CA_008</th><td>NS/NV  </td><td>  9476.822</td><td>488.797071</td><td>  3.063601</td><td>0.1497121</td><td> 18.84291</td><td>2.6303678</td><td>0.35019</td><td>0.6385332</td><td>  1.5336766</td><td>⋯</td><td> 2.5311930</td><td>4.391904</td><td>  153297.26</td><td>747.850</td><td>   6.249917</td><td>  2.904066</td><td>  0.6185674</td><td>1507876.51</td><td>1133.60912</td><td> 880.4278</td></tr>\n",
       "\t<tr><th scope=row>CA_009</th><td>4th Gen</td><td>427479.975</td><td>  2.637389</td><td>139.728304</td><td>0.1497121</td><td>172.59075</td><td>0.0750228</td><td>0.35019</td><td>0.6703242</td><td>335.5747095</td><td>⋯</td><td>23.1687805</td><td>4.391904</td><td>  832761.07</td><td>302.490</td><td>1257.001344</td><td> 34.269769</td><td>119.2757727</td><td>6341595.70</td><td> 500.19741</td><td>2626.2062</td></tr>\n",
       "</tbody>\n",
       "</table>\n"
      ],
      "text/latex": [
       "A data.frame: 6 × 44\n",
       "\\begin{tabular}{r|lllllllllllllllllllll}\n",
       "  & Device & Albumin & CRP & Eotaxin & Eotaxin3 & Flt1 & GMCSF & IFNg & IL10 & IL12p40 & ⋯ & TNFa & Tie2 & Uteroglobin & VEGF & VEGFC & VEGFD & bFGF & dsDNA & sICAM1 & sVCAM1\\\\\n",
       "  & <fct> & <dbl> & <dbl> & <dbl> & <dbl> & <dbl> & <dbl> & <dbl> & <dbl> & <dbl> & ⋯ & <dbl> & <dbl> & <dbl> & <dbl> & <dbl> & <dbl> & <dbl> & <dbl> & <dbl> & <dbl>\\\\\n",
       "\\hline\n",
       "\tCA\\_001 & NS/NV   &   6050.353 &   1.624004 &   3.063601 & 0.1497121 &  34.57635 & 2.8684272 & 0.35019 & 0.4383821 &   0.3769871 & ⋯ &  2.3239884 & 4.391904 &    86614.15 &  36.773 &    6.249917 &   2.904066 &   2.6072384 &  732641.62 &   59.76169 &  484.5604\\\\\n",
       "\tCA\\_004 & NS/NV   &   5676.526 &   1.624004 &   3.063601 & 0.1497121 &  19.72112 & 0.0750228 & 0.35019 & 0.4908329 &   3.5529171 & ⋯ &  1.4939595 & 4.391904 &   142763.90 & 202.390 &    6.249917 &   2.904066 &   3.0455254 &  484265.39 &  156.55747 &  278.8425\\\\\n",
       "\tCA\\_005 & NS/NV   &  63070.352 &  25.175647 &   3.063601 & 0.1497121 & 163.24190 & 1.3472141 & 0.35019 & 0.5434500 &  45.1865518 & ⋯ &  5.2865301 & 4.391904 & 27853666.44 & 753.540 &  421.748017 & 296.053788 &  32.6238660 & 2966355.10 & 5083.30967 &  980.6836\\\\\n",
       "\tCA\\_006 & NS/NV   &    103.468 &   1.624004 &  70.163381 & 0.1497121 &  18.84291 & 0.7748752 & 0.35019 & 0.3133017 &   0.1421193 & ⋯ &  0.4151426 & 4.391904 &   388568.51 &  13.115 &    6.249917 &   2.904066 &   1.6172160 &   29327.11 &   85.61421 &  484.5604\\\\\n",
       "\tCA\\_008 & NS/NV   &   9476.822 & 488.797071 &   3.063601 & 0.1497121 &  18.84291 & 2.6303678 & 0.35019 & 0.6385332 &   1.5336766 & ⋯ &  2.5311930 & 4.391904 &   153297.26 & 747.850 &    6.249917 &   2.904066 &   0.6185674 & 1507876.51 & 1133.60912 &  880.4278\\\\\n",
       "\tCA\\_009 & 4th Gen & 427479.975 &   2.637389 & 139.728304 & 0.1497121 & 172.59075 & 0.0750228 & 0.35019 & 0.6703242 & 335.5747095 & ⋯ & 23.1687805 & 4.391904 &   832761.07 & 302.490 & 1257.001344 &  34.269769 & 119.2757727 & 6341595.70 &  500.19741 & 2626.2062\\\\\n",
       "\\end{tabular}\n"
      ],
      "text/markdown": [
       "\n",
       "A data.frame: 6 × 44\n",
       "\n",
       "| <!--/--> | Device &lt;fct&gt; | Albumin &lt;dbl&gt; | CRP &lt;dbl&gt; | Eotaxin &lt;dbl&gt; | Eotaxin3 &lt;dbl&gt; | Flt1 &lt;dbl&gt; | GMCSF &lt;dbl&gt; | IFNg &lt;dbl&gt; | IL10 &lt;dbl&gt; | IL12p40 &lt;dbl&gt; | ⋯ ⋯ | TNFa &lt;dbl&gt; | Tie2 &lt;dbl&gt; | Uteroglobin &lt;dbl&gt; | VEGF &lt;dbl&gt; | VEGFC &lt;dbl&gt; | VEGFD &lt;dbl&gt; | bFGF &lt;dbl&gt; | dsDNA &lt;dbl&gt; | sICAM1 &lt;dbl&gt; | sVCAM1 &lt;dbl&gt; |\n",
       "|---|---|---|---|---|---|---|---|---|---|---|---|---|---|---|---|---|---|---|---|---|---|\n",
       "| CA_001 | NS/NV   |   6050.353 |   1.624004 |   3.063601 | 0.1497121 |  34.57635 | 2.8684272 | 0.35019 | 0.4383821 |   0.3769871 | ⋯ |  2.3239884 | 4.391904 |    86614.15 |  36.773 |    6.249917 |   2.904066 |   2.6072384 |  732641.62 |   59.76169 |  484.5604 |\n",
       "| CA_004 | NS/NV   |   5676.526 |   1.624004 |   3.063601 | 0.1497121 |  19.72112 | 0.0750228 | 0.35019 | 0.4908329 |   3.5529171 | ⋯ |  1.4939595 | 4.391904 |   142763.90 | 202.390 |    6.249917 |   2.904066 |   3.0455254 |  484265.39 |  156.55747 |  278.8425 |\n",
       "| CA_005 | NS/NV   |  63070.352 |  25.175647 |   3.063601 | 0.1497121 | 163.24190 | 1.3472141 | 0.35019 | 0.5434500 |  45.1865518 | ⋯ |  5.2865301 | 4.391904 | 27853666.44 | 753.540 |  421.748017 | 296.053788 |  32.6238660 | 2966355.10 | 5083.30967 |  980.6836 |\n",
       "| CA_006 | NS/NV   |    103.468 |   1.624004 |  70.163381 | 0.1497121 |  18.84291 | 0.7748752 | 0.35019 | 0.3133017 |   0.1421193 | ⋯ |  0.4151426 | 4.391904 |   388568.51 |  13.115 |    6.249917 |   2.904066 |   1.6172160 |   29327.11 |   85.61421 |  484.5604 |\n",
       "| CA_008 | NS/NV   |   9476.822 | 488.797071 |   3.063601 | 0.1497121 |  18.84291 | 2.6303678 | 0.35019 | 0.6385332 |   1.5336766 | ⋯ |  2.5311930 | 4.391904 |   153297.26 | 747.850 |    6.249917 |   2.904066 |   0.6185674 | 1507876.51 | 1133.60912 |  880.4278 |\n",
       "| CA_009 | 4th Gen | 427479.975 |   2.637389 | 139.728304 | 0.1497121 | 172.59075 | 0.0750228 | 0.35019 | 0.6703242 | 335.5747095 | ⋯ | 23.1687805 | 4.391904 |   832761.07 | 302.490 | 1257.001344 |  34.269769 | 119.2757727 | 6341595.70 |  500.19741 | 2626.2062 |\n",
       "\n"
      ],
      "text/plain": [
       "       Device  Albumin    CRP        Eotaxin    Eotaxin3  Flt1      GMCSF    \n",
       "CA_001 NS/NV     6050.353   1.624004   3.063601 0.1497121  34.57635 2.8684272\n",
       "CA_004 NS/NV     5676.526   1.624004   3.063601 0.1497121  19.72112 0.0750228\n",
       "CA_005 NS/NV    63070.352  25.175647   3.063601 0.1497121 163.24190 1.3472141\n",
       "CA_006 NS/NV      103.468   1.624004  70.163381 0.1497121  18.84291 0.7748752\n",
       "CA_008 NS/NV     9476.822 488.797071   3.063601 0.1497121  18.84291 2.6303678\n",
       "CA_009 4th Gen 427479.975   2.637389 139.728304 0.1497121 172.59075 0.0750228\n",
       "       IFNg    IL10      IL12p40     ⋯ TNFa       Tie2     Uteroglobin VEGF   \n",
       "CA_001 0.35019 0.4383821   0.3769871 ⋯  2.3239884 4.391904    86614.15  36.773\n",
       "CA_004 0.35019 0.4908329   3.5529171 ⋯  1.4939595 4.391904   142763.90 202.390\n",
       "CA_005 0.35019 0.5434500  45.1865518 ⋯  5.2865301 4.391904 27853666.44 753.540\n",
       "CA_006 0.35019 0.3133017   0.1421193 ⋯  0.4151426 4.391904   388568.51  13.115\n",
       "CA_008 0.35019 0.6385332   1.5336766 ⋯  2.5311930 4.391904   153297.26 747.850\n",
       "CA_009 0.35019 0.6703242 335.5747095 ⋯ 23.1687805 4.391904   832761.07 302.490\n",
       "       VEGFC       VEGFD      bFGF        dsDNA      sICAM1     sVCAM1   \n",
       "CA_001    6.249917   2.904066   2.6072384  732641.62   59.76169  484.5604\n",
       "CA_004    6.249917   2.904066   3.0455254  484265.39  156.55747  278.8425\n",
       "CA_005  421.748017 296.053788  32.6238660 2966355.10 5083.30967  980.6836\n",
       "CA_006    6.249917   2.904066   1.6172160   29327.11   85.61421  484.5604\n",
       "CA_008    6.249917   2.904066   0.6185674 1507876.51 1133.60912  880.4278\n",
       "CA_009 1257.001344  34.269769 119.2757727 6341595.70  500.19741 2626.2062"
      ]
     },
     "metadata": {},
     "output_type": "display_data"
    }
   ],
   "source": [
    "MediatorData_Devices <- data.frame(MediatorData$Device, row.names = MediatorData$Subject_ID)\n",
    "colnames(MediatorData_Devices) <- \"Device\"\n",
    "MediatorData <- data.frame(MediatorData[ , 3:47], row.names = MediatorData$Subject_ID)\n",
    "\n",
    "# Filter out mediators that were detected in fewer than 25 subjects (~25% of the cohort, since we have four groups).\n",
    "MediatorData <- MediatorData[, which(as.numeric(colSums(MediatorData != 0)) > 25)]\n",
    "\n",
    "# Impute zeroes as the sqrt of the lowest value in that column.\n",
    "MediatorData <- as.data.frame(apply(MediatorData[ , 1:43], 2, function(x) replace(x, x == 0, sqrt(min(x[x>0])))))\n",
    "\n",
    "# Put column names in alphabetical order\n",
    "MediatorData <- MediatorData[,order(names(MediatorData))]\n",
    "\n",
    "# Add groups back in to data frame\n",
    "MediatorData <- transform(merge(MediatorData_Devices, MediatorData, by=0 ,all=TRUE), row.names=Row.names, Row.names=NULL)\n",
    "\n",
    "# Identify factors that will be the columns in your table and specify the order you want them to appear.\n",
    "MediatorData$Device <- factor(MediatorData$Device, \n",
    "                              levels=c(\"NS/NV\", \"SM\", \"3rd Gen\", \"4th Gen\"), \n",
    "                              labels=c(\"NS/NV\", \"Smoker\", \"3rd Gen\", \"4th Gen\"))\n",
    "                                    \n",
    "head(MediatorData)"
   ]
  },
  {
   "cell_type": "markdown",
   "id": "c674b7fb",
   "metadata": {},
   "source": [
    "# Table E2\n",
    "\n",
    "P values from Kruskal-Wallis tests for Table E2. "
   ]
  },
  {
   "cell_type": "code",
   "execution_count": 4,
   "id": "673f9fbe",
   "metadata": {},
   "outputs": [
    {
     "data": {
      "text/html": [
       "<table class=\"dataframe\">\n",
       "<caption>A data.frame: 6 × 3</caption>\n",
       "<thead>\n",
       "\t<tr><th></th><th scope=col>Cytokine</th><th scope=col>P Value</th><th scope=col>P Adjust</th></tr>\n",
       "\t<tr><th></th><th scope=col>&lt;chr&gt;</th><th scope=col>&lt;chr&gt;</th><th scope=col>&lt;dbl&gt;</th></tr>\n",
       "</thead>\n",
       "<tbody>\n",
       "\t<tr><th scope=row>1</th><td>Albumin </td><td>0.00333630191813482 </td><td>0.017932623</td></tr>\n",
       "\t<tr><th scope=row>2</th><td>CRP     </td><td>0.000448900965999647</td><td>0.004086496</td></tr>\n",
       "\t<tr><th scope=row>3</th><td>Eotaxin </td><td>0.555883828243207   </td><td>0.620095199</td></tr>\n",
       "\t<tr><th scope=row>4</th><td>Eotaxin3</td><td>0.609657727165508   </td><td>0.639397128</td></tr>\n",
       "\t<tr><th scope=row>5</th><td>Flt1    </td><td>0.000110510514372353</td><td>0.001583984</td></tr>\n",
       "\t<tr><th scope=row>6</th><td>GMCSF   </td><td>0.0241009840932995  </td><td>0.060961313</td></tr>\n",
       "</tbody>\n",
       "</table>\n"
      ],
      "text/latex": [
       "A data.frame: 6 × 3\n",
       "\\begin{tabular}{r|lll}\n",
       "  & Cytokine & P Value & P Adjust\\\\\n",
       "  & <chr> & <chr> & <dbl>\\\\\n",
       "\\hline\n",
       "\t1 & Albumin  & 0.00333630191813482  & 0.017932623\\\\\n",
       "\t2 & CRP      & 0.000448900965999647 & 0.004086496\\\\\n",
       "\t3 & Eotaxin  & 0.555883828243207    & 0.620095199\\\\\n",
       "\t4 & Eotaxin3 & 0.609657727165508    & 0.639397128\\\\\n",
       "\t5 & Flt1     & 0.000110510514372353 & 0.001583984\\\\\n",
       "\t6 & GMCSF    & 0.0241009840932995   & 0.060961313\\\\\n",
       "\\end{tabular}\n"
      ],
      "text/markdown": [
       "\n",
       "A data.frame: 6 × 3\n",
       "\n",
       "| <!--/--> | Cytokine &lt;chr&gt; | P Value &lt;chr&gt; | P Adjust &lt;dbl&gt; |\n",
       "|---|---|---|---|\n",
       "| 1 | Albumin  | 0.00333630191813482  | 0.017932623 |\n",
       "| 2 | CRP      | 0.000448900965999647 | 0.004086496 |\n",
       "| 3 | Eotaxin  | 0.555883828243207    | 0.620095199 |\n",
       "| 4 | Eotaxin3 | 0.609657727165508    | 0.639397128 |\n",
       "| 5 | Flt1     | 0.000110510514372353 | 0.001583984 |\n",
       "| 6 | GMCSF    | 0.0241009840932995   | 0.060961313 |\n",
       "\n"
      ],
      "text/plain": [
       "  Cytokine P Value              P Adjust   \n",
       "1 Albumin  0.00333630191813482  0.017932623\n",
       "2 CRP      0.000448900965999647 0.004086496\n",
       "3 Eotaxin  0.555883828243207    0.620095199\n",
       "4 Eotaxin3 0.609657727165508    0.639397128\n",
       "5 Flt1     0.000110510514372353 0.001583984\n",
       "6 GMCSF    0.0241009840932995   0.060961313"
      ]
     },
     "metadata": {},
     "output_type": "display_data"
    }
   ],
   "source": [
    "cytokines = colnames(MediatorData)[2:44]\n",
    "\n",
    "cytokine_kruskal_test_pvalues = data.frame()\n",
    "for(i in 1:length(cytokines)){\n",
    "    kruskal_test = kruskal.test(as.formula(paste0(cytokines[i],\"~\", \"Device\")), data = MediatorData)\n",
    "    kruskal_test_values = cbind(\"Cytokine\" = cytokines[i], \"P Value\" = kruskal_test$p.value)\n",
    "    cytokine_kruskal_test_pvalues = rbind(cytokine_kruskal_test_pvalues, kruskal_test_values)\n",
    "}\n",
    "\n",
    "#adding adjusted p values\n",
    "cytokine_kruskal_test_pvalues$`P Adjust` = p.adjust(cytokine_kruskal_test_pvalues$`P Value`, method = \"BH\")\n",
    "\n",
    "head(cytokine_kruskal_test_pvalues)"
   ]
  },
  {
   "cell_type": "markdown",
   "id": "8640101a",
   "metadata": {},
   "source": [
    "# Table E3\n",
    "\n",
    "P values from ANOVA/ANCOVA for Table E3."
   ]
  },
  {
   "cell_type": "code",
   "execution_count": 5,
   "id": "980bb5ba",
   "metadata": {},
   "outputs": [
    {
     "name": "stderr",
     "output_type": "stream",
     "text": [
      "\u001b[1m\u001b[22mJoining, by = \"Device\"\n"
     ]
    },
    {
     "data": {
      "text/html": [
       "<table class=\"dataframe\">\n",
       "<caption>A data.frame: 6 × 47</caption>\n",
       "<thead>\n",
       "\t<tr><th></th><th scope=col>Device</th><th scope=col>Albumin</th><th scope=col>CRP</th><th scope=col>Eotaxin</th><th scope=col>Eotaxin3</th><th scope=col>Flt1</th><th scope=col>GMCSF</th><th scope=col>IFNg</th><th scope=col>IL10</th><th scope=col>IL12p40</th><th scope=col>⋯</th><th scope=col>VEGF</th><th scope=col>VEGFC</th><th scope=col>VEGFD</th><th scope=col>bFGF</th><th scope=col>dsDNA</th><th scope=col>sICAM1</th><th scope=col>sVCAM1</th><th scope=col>Sex</th><th scope=col>Race</th><th scope=col>Age</th></tr>\n",
       "\t<tr><th></th><th scope=col>&lt;fct&gt;</th><th scope=col>&lt;dbl&gt;</th><th scope=col>&lt;dbl&gt;</th><th scope=col>&lt;dbl&gt;</th><th scope=col>&lt;dbl&gt;</th><th scope=col>&lt;dbl&gt;</th><th scope=col>&lt;dbl&gt;</th><th scope=col>&lt;dbl&gt;</th><th scope=col>&lt;dbl&gt;</th><th scope=col>&lt;dbl&gt;</th><th scope=col>⋯</th><th scope=col>&lt;dbl&gt;</th><th scope=col>&lt;dbl&gt;</th><th scope=col>&lt;dbl&gt;</th><th scope=col>&lt;dbl&gt;</th><th scope=col>&lt;dbl&gt;</th><th scope=col>&lt;dbl&gt;</th><th scope=col>&lt;dbl&gt;</th><th scope=col>&lt;fct&gt;</th><th scope=col>&lt;fct&gt;</th><th scope=col>&lt;int&gt;</th></tr>\n",
       "</thead>\n",
       "<tbody>\n",
       "\t<tr><th scope=row>1</th><td>NS/NV</td><td>6050.353</td><td>1.624004</td><td>3.063601</td><td>0.1497121</td><td>34.57635</td><td>2.868427</td><td>0.35019</td><td>0.4383821</td><td>0.3769871</td><td>⋯</td><td>36.773</td><td>6.249917</td><td>2.904066</td><td>2.607238</td><td>732641.6</td><td>59.76169</td><td>484.5604</td><td>F</td><td>W </td><td>22</td></tr>\n",
       "\t<tr><th scope=row>2</th><td>NS/NV</td><td>6050.353</td><td>1.624004</td><td>3.063601</td><td>0.1497121</td><td>34.57635</td><td>2.868427</td><td>0.35019</td><td>0.4383821</td><td>0.3769871</td><td>⋯</td><td>36.773</td><td>6.249917</td><td>2.904066</td><td>2.607238</td><td>732641.6</td><td>59.76169</td><td>484.5604</td><td>F</td><td>W </td><td>22</td></tr>\n",
       "\t<tr><th scope=row>3</th><td>NS/NV</td><td>6050.353</td><td>1.624004</td><td>3.063601</td><td>0.1497121</td><td>34.57635</td><td>2.868427</td><td>0.35019</td><td>0.4383821</td><td>0.3769871</td><td>⋯</td><td>36.773</td><td>6.249917</td><td>2.904066</td><td>2.607238</td><td>732641.6</td><td>59.76169</td><td>484.5604</td><td>F</td><td>W </td><td>21</td></tr>\n",
       "\t<tr><th scope=row>4</th><td>NS/NV</td><td>6050.353</td><td>1.624004</td><td>3.063601</td><td>0.1497121</td><td>34.57635</td><td>2.868427</td><td>0.35019</td><td>0.4383821</td><td>0.3769871</td><td>⋯</td><td>36.773</td><td>6.249917</td><td>2.904066</td><td>2.607238</td><td>732641.6</td><td>59.76169</td><td>484.5604</td><td>M</td><td>W </td><td>21</td></tr>\n",
       "\t<tr><th scope=row>5</th><td>NS/NV</td><td>6050.353</td><td>1.624004</td><td>3.063601</td><td>0.1497121</td><td>34.57635</td><td>2.868427</td><td>0.35019</td><td>0.4383821</td><td>0.3769871</td><td>⋯</td><td>36.773</td><td>6.249917</td><td>2.904066</td><td>2.607238</td><td>732641.6</td><td>59.76169</td><td>484.5604</td><td>M</td><td>NW</td><td>27</td></tr>\n",
       "\t<tr><th scope=row>6</th><td>NS/NV</td><td>6050.353</td><td>1.624004</td><td>3.063601</td><td>0.1497121</td><td>34.57635</td><td>2.868427</td><td>0.35019</td><td>0.4383821</td><td>0.3769871</td><td>⋯</td><td>36.773</td><td>6.249917</td><td>2.904066</td><td>2.607238</td><td>732641.6</td><td>59.76169</td><td>484.5604</td><td>F</td><td>W </td><td>27</td></tr>\n",
       "</tbody>\n",
       "</table>\n"
      ],
      "text/latex": [
       "A data.frame: 6 × 47\n",
       "\\begin{tabular}{r|lllllllllllllllllllll}\n",
       "  & Device & Albumin & CRP & Eotaxin & Eotaxin3 & Flt1 & GMCSF & IFNg & IL10 & IL12p40 & ⋯ & VEGF & VEGFC & VEGFD & bFGF & dsDNA & sICAM1 & sVCAM1 & Sex & Race & Age\\\\\n",
       "  & <fct> & <dbl> & <dbl> & <dbl> & <dbl> & <dbl> & <dbl> & <dbl> & <dbl> & <dbl> & ⋯ & <dbl> & <dbl> & <dbl> & <dbl> & <dbl> & <dbl> & <dbl> & <fct> & <fct> & <int>\\\\\n",
       "\\hline\n",
       "\t1 & NS/NV & 6050.353 & 1.624004 & 3.063601 & 0.1497121 & 34.57635 & 2.868427 & 0.35019 & 0.4383821 & 0.3769871 & ⋯ & 36.773 & 6.249917 & 2.904066 & 2.607238 & 732641.6 & 59.76169 & 484.5604 & F & W  & 22\\\\\n",
       "\t2 & NS/NV & 6050.353 & 1.624004 & 3.063601 & 0.1497121 & 34.57635 & 2.868427 & 0.35019 & 0.4383821 & 0.3769871 & ⋯ & 36.773 & 6.249917 & 2.904066 & 2.607238 & 732641.6 & 59.76169 & 484.5604 & F & W  & 22\\\\\n",
       "\t3 & NS/NV & 6050.353 & 1.624004 & 3.063601 & 0.1497121 & 34.57635 & 2.868427 & 0.35019 & 0.4383821 & 0.3769871 & ⋯ & 36.773 & 6.249917 & 2.904066 & 2.607238 & 732641.6 & 59.76169 & 484.5604 & F & W  & 21\\\\\n",
       "\t4 & NS/NV & 6050.353 & 1.624004 & 3.063601 & 0.1497121 & 34.57635 & 2.868427 & 0.35019 & 0.4383821 & 0.3769871 & ⋯ & 36.773 & 6.249917 & 2.904066 & 2.607238 & 732641.6 & 59.76169 & 484.5604 & M & W  & 21\\\\\n",
       "\t5 & NS/NV & 6050.353 & 1.624004 & 3.063601 & 0.1497121 & 34.57635 & 2.868427 & 0.35019 & 0.4383821 & 0.3769871 & ⋯ & 36.773 & 6.249917 & 2.904066 & 2.607238 & 732641.6 & 59.76169 & 484.5604 & M & NW & 27\\\\\n",
       "\t6 & NS/NV & 6050.353 & 1.624004 & 3.063601 & 0.1497121 & 34.57635 & 2.868427 & 0.35019 & 0.4383821 & 0.3769871 & ⋯ & 36.773 & 6.249917 & 2.904066 & 2.607238 & 732641.6 & 59.76169 & 484.5604 & F & W  & 27\\\\\n",
       "\\end{tabular}\n"
      ],
      "text/markdown": [
       "\n",
       "A data.frame: 6 × 47\n",
       "\n",
       "| <!--/--> | Device &lt;fct&gt; | Albumin &lt;dbl&gt; | CRP &lt;dbl&gt; | Eotaxin &lt;dbl&gt; | Eotaxin3 &lt;dbl&gt; | Flt1 &lt;dbl&gt; | GMCSF &lt;dbl&gt; | IFNg &lt;dbl&gt; | IL10 &lt;dbl&gt; | IL12p40 &lt;dbl&gt; | ⋯ ⋯ | VEGF &lt;dbl&gt; | VEGFC &lt;dbl&gt; | VEGFD &lt;dbl&gt; | bFGF &lt;dbl&gt; | dsDNA &lt;dbl&gt; | sICAM1 &lt;dbl&gt; | sVCAM1 &lt;dbl&gt; | Sex &lt;fct&gt; | Race &lt;fct&gt; | Age &lt;int&gt; |\n",
       "|---|---|---|---|---|---|---|---|---|---|---|---|---|---|---|---|---|---|---|---|---|---|\n",
       "| 1 | NS/NV | 6050.353 | 1.624004 | 3.063601 | 0.1497121 | 34.57635 | 2.868427 | 0.35019 | 0.4383821 | 0.3769871 | ⋯ | 36.773 | 6.249917 | 2.904066 | 2.607238 | 732641.6 | 59.76169 | 484.5604 | F | W  | 22 |\n",
       "| 2 | NS/NV | 6050.353 | 1.624004 | 3.063601 | 0.1497121 | 34.57635 | 2.868427 | 0.35019 | 0.4383821 | 0.3769871 | ⋯ | 36.773 | 6.249917 | 2.904066 | 2.607238 | 732641.6 | 59.76169 | 484.5604 | F | W  | 22 |\n",
       "| 3 | NS/NV | 6050.353 | 1.624004 | 3.063601 | 0.1497121 | 34.57635 | 2.868427 | 0.35019 | 0.4383821 | 0.3769871 | ⋯ | 36.773 | 6.249917 | 2.904066 | 2.607238 | 732641.6 | 59.76169 | 484.5604 | F | W  | 21 |\n",
       "| 4 | NS/NV | 6050.353 | 1.624004 | 3.063601 | 0.1497121 | 34.57635 | 2.868427 | 0.35019 | 0.4383821 | 0.3769871 | ⋯ | 36.773 | 6.249917 | 2.904066 | 2.607238 | 732641.6 | 59.76169 | 484.5604 | M | W  | 21 |\n",
       "| 5 | NS/NV | 6050.353 | 1.624004 | 3.063601 | 0.1497121 | 34.57635 | 2.868427 | 0.35019 | 0.4383821 | 0.3769871 | ⋯ | 36.773 | 6.249917 | 2.904066 | 2.607238 | 732641.6 | 59.76169 | 484.5604 | M | NW | 27 |\n",
       "| 6 | NS/NV | 6050.353 | 1.624004 | 3.063601 | 0.1497121 | 34.57635 | 2.868427 | 0.35019 | 0.4383821 | 0.3769871 | ⋯ | 36.773 | 6.249917 | 2.904066 | 2.607238 | 732641.6 | 59.76169 | 484.5604 | F | W  | 27 |\n",
       "\n"
      ],
      "text/plain": [
       "  Device Albumin  CRP      Eotaxin  Eotaxin3  Flt1     GMCSF    IFNg   \n",
       "1 NS/NV  6050.353 1.624004 3.063601 0.1497121 34.57635 2.868427 0.35019\n",
       "2 NS/NV  6050.353 1.624004 3.063601 0.1497121 34.57635 2.868427 0.35019\n",
       "3 NS/NV  6050.353 1.624004 3.063601 0.1497121 34.57635 2.868427 0.35019\n",
       "4 NS/NV  6050.353 1.624004 3.063601 0.1497121 34.57635 2.868427 0.35019\n",
       "5 NS/NV  6050.353 1.624004 3.063601 0.1497121 34.57635 2.868427 0.35019\n",
       "6 NS/NV  6050.353 1.624004 3.063601 0.1497121 34.57635 2.868427 0.35019\n",
       "  IL10      IL12p40   ⋯ VEGF   VEGFC    VEGFD    bFGF     dsDNA    sICAM1  \n",
       "1 0.4383821 0.3769871 ⋯ 36.773 6.249917 2.904066 2.607238 732641.6 59.76169\n",
       "2 0.4383821 0.3769871 ⋯ 36.773 6.249917 2.904066 2.607238 732641.6 59.76169\n",
       "3 0.4383821 0.3769871 ⋯ 36.773 6.249917 2.904066 2.607238 732641.6 59.76169\n",
       "4 0.4383821 0.3769871 ⋯ 36.773 6.249917 2.904066 2.607238 732641.6 59.76169\n",
       "5 0.4383821 0.3769871 ⋯ 36.773 6.249917 2.904066 2.607238 732641.6 59.76169\n",
       "6 0.4383821 0.3769871 ⋯ 36.773 6.249917 2.904066 2.607238 732641.6 59.76169\n",
       "  sVCAM1   Sex Race Age\n",
       "1 484.5604 F   W    22 \n",
       "2 484.5604 F   W    22 \n",
       "3 484.5604 F   W    21 \n",
       "4 484.5604 M   W    21 \n",
       "5 484.5604 M   NW   27 \n",
       "6 484.5604 F   W    27 "
      ]
     },
     "metadata": {},
     "output_type": "display_data"
    }
   ],
   "source": [
    "# combining both datasets\n",
    "all_data = full_join(MediatorData, DemographicData)[-c(45, 48, 50, 51)] %>%\n",
    "    mutate(Device = factor(ifelse(Device == \"Smoker\", \"SM\", Device)), Sex = factor(Sex), \n",
    "           Race = factor(ifelse(Race != \"W\", \"NW\", Race)))\n",
    "head(all_data)"
   ]
  },
  {
   "cell_type": "code",
   "execution_count": 12,
   "id": "e8aa58d9",
   "metadata": {},
   "outputs": [
    {
     "name": "stderr",
     "output_type": "stream",
     "text": [
      "Warning message in apply(all_data[2:44], 2, log2):\n",
      "“NaNs produced”\n",
      "Warning message in apply(all_data[2:44], 2, log2):\n",
      "“NaNs produced”\n",
      "Warning message in apply(all_data[2:44], 2, log2):\n",
      "“NaNs produced”\n",
      "Warning message in apply(all_data[2:44], 2, log2):\n",
      "“NaNs produced”\n",
      "Warning message in apply(all_data[2:44], 2, log2):\n",
      "“NaNs produced”\n",
      "Warning message in apply(all_data[2:44], 2, log2):\n",
      "“NaNs produced”\n",
      "Warning message in apply(all_data[2:44], 2, log2):\n",
      "“NaNs produced”\n",
      "Warning message in apply(all_data[2:44], 2, log2):\n",
      "“NaNs produced”\n",
      "Warning message in apply(all_data[2:44], 2, log2):\n",
      "“NaNs produced”\n",
      "Warning message in apply(all_data[2:44], 2, log2):\n",
      "“NaNs produced”\n",
      "Warning message in apply(all_data[2:44], 2, log2):\n",
      "“NaNs produced”\n",
      "Warning message in apply(all_data[2:44], 2, log2):\n",
      "“NaNs produced”\n",
      "Warning message in apply(all_data[2:44], 2, log2):\n",
      "“NaNs produced”\n",
      "Warning message in apply(all_data[2:44], 2, log2):\n",
      "“NaNs produced”\n",
      "Warning message in apply(all_data[2:44], 2, log2):\n",
      "“NaNs produced”\n",
      "Warning message in apply(all_data[2:44], 2, log2):\n",
      "“NaNs produced”\n",
      "Warning message in apply(all_data[2:44], 2, log2):\n",
      "“NaNs produced”\n",
      "Warning message in apply(all_data[2:44], 2, log2):\n",
      "“NaNs produced”\n",
      "Warning message in apply(all_data[2:44], 2, log2):\n",
      "“NaNs produced”\n",
      "Warning message in apply(all_data[2:44], 2, log2):\n",
      "“NaNs produced”\n",
      "Warning message in apply(all_data[2:44], 2, log2):\n",
      "“NaNs produced”\n"
     ]
    },
    {
     "data": {
      "text/html": [
       "<table class=\"dataframe\">\n",
       "<caption>A data.frame: 6 × 47</caption>\n",
       "<thead>\n",
       "\t<tr><th></th><th scope=col>Device</th><th scope=col>Albumin</th><th scope=col>CRP</th><th scope=col>Eotaxin</th><th scope=col>Eotaxin3</th><th scope=col>Flt1</th><th scope=col>GMCSF</th><th scope=col>IFNg</th><th scope=col>IL10</th><th scope=col>IL12p40</th><th scope=col>⋯</th><th scope=col>VEGF</th><th scope=col>VEGFC</th><th scope=col>VEGFD</th><th scope=col>bFGF</th><th scope=col>dsDNA</th><th scope=col>sICAM1</th><th scope=col>sVCAM1</th><th scope=col>Sex</th><th scope=col>Race</th><th scope=col>Age</th></tr>\n",
       "\t<tr><th></th><th scope=col>&lt;fct&gt;</th><th scope=col>&lt;dbl&gt;</th><th scope=col>&lt;dbl&gt;</th><th scope=col>&lt;dbl&gt;</th><th scope=col>&lt;dbl&gt;</th><th scope=col>&lt;dbl&gt;</th><th scope=col>&lt;dbl&gt;</th><th scope=col>&lt;dbl&gt;</th><th scope=col>&lt;dbl&gt;</th><th scope=col>&lt;dbl&gt;</th><th scope=col>⋯</th><th scope=col>&lt;dbl&gt;</th><th scope=col>&lt;dbl&gt;</th><th scope=col>&lt;dbl&gt;</th><th scope=col>&lt;dbl&gt;</th><th scope=col>&lt;dbl&gt;</th><th scope=col>&lt;dbl&gt;</th><th scope=col>&lt;dbl&gt;</th><th scope=col>&lt;fct&gt;</th><th scope=col>&lt;fct&gt;</th><th scope=col>&lt;int&gt;</th></tr>\n",
       "</thead>\n",
       "<tbody>\n",
       "\t<tr><th scope=row>1</th><td>NS/NV</td><td>3.651087</td><td>-0.5154901</td><td>0.6917383</td><td>NaN</td><td>2.353807</td><td>0.604318</td><td>NaN</td><td>NaN</td><td>NaN</td><td>⋯</td><td>2.378671</td><td>1.402633</td><td>0.621125</td><td>0.467303</td><td>4.284125</td><td>2.560996</td><td>3.15713</td><td>F</td><td>W </td><td>22</td></tr>\n",
       "\t<tr><th scope=row>2</th><td>NS/NV</td><td>3.651087</td><td>-0.5154901</td><td>0.6917383</td><td>NaN</td><td>2.353807</td><td>0.604318</td><td>NaN</td><td>NaN</td><td>NaN</td><td>⋯</td><td>2.378671</td><td>1.402633</td><td>0.621125</td><td>0.467303</td><td>4.284125</td><td>2.560996</td><td>3.15713</td><td>F</td><td>W </td><td>22</td></tr>\n",
       "\t<tr><th scope=row>3</th><td>NS/NV</td><td>3.651087</td><td>-0.5154901</td><td>0.6917383</td><td>NaN</td><td>2.353807</td><td>0.604318</td><td>NaN</td><td>NaN</td><td>NaN</td><td>⋯</td><td>2.378671</td><td>1.402633</td><td>0.621125</td><td>0.467303</td><td>4.284125</td><td>2.560996</td><td>3.15713</td><td>F</td><td>W </td><td>21</td></tr>\n",
       "\t<tr><th scope=row>4</th><td>NS/NV</td><td>3.651087</td><td>-0.5154901</td><td>0.6917383</td><td>NaN</td><td>2.353807</td><td>0.604318</td><td>NaN</td><td>NaN</td><td>NaN</td><td>⋯</td><td>2.378671</td><td>1.402633</td><td>0.621125</td><td>0.467303</td><td>4.284125</td><td>2.560996</td><td>3.15713</td><td>M</td><td>W </td><td>21</td></tr>\n",
       "\t<tr><th scope=row>5</th><td>NS/NV</td><td>3.651087</td><td>-0.5154901</td><td>0.6917383</td><td>NaN</td><td>2.353807</td><td>0.604318</td><td>NaN</td><td>NaN</td><td>NaN</td><td>⋯</td><td>2.378671</td><td>1.402633</td><td>0.621125</td><td>0.467303</td><td>4.284125</td><td>2.560996</td><td>3.15713</td><td>M</td><td>NW</td><td>27</td></tr>\n",
       "\t<tr><th scope=row>6</th><td>NS/NV</td><td>3.651087</td><td>-0.5154901</td><td>0.6917383</td><td>NaN</td><td>2.353807</td><td>0.604318</td><td>NaN</td><td>NaN</td><td>NaN</td><td>⋯</td><td>2.378671</td><td>1.402633</td><td>0.621125</td><td>0.467303</td><td>4.284125</td><td>2.560996</td><td>3.15713</td><td>F</td><td>W </td><td>27</td></tr>\n",
       "</tbody>\n",
       "</table>\n"
      ],
      "text/latex": [
       "A data.frame: 6 × 47\n",
       "\\begin{tabular}{r|lllllllllllllllllllll}\n",
       "  & Device & Albumin & CRP & Eotaxin & Eotaxin3 & Flt1 & GMCSF & IFNg & IL10 & IL12p40 & ⋯ & VEGF & VEGFC & VEGFD & bFGF & dsDNA & sICAM1 & sVCAM1 & Sex & Race & Age\\\\\n",
       "  & <fct> & <dbl> & <dbl> & <dbl> & <dbl> & <dbl> & <dbl> & <dbl> & <dbl> & <dbl> & ⋯ & <dbl> & <dbl> & <dbl> & <dbl> & <dbl> & <dbl> & <dbl> & <fct> & <fct> & <int>\\\\\n",
       "\\hline\n",
       "\t1 & NS/NV & 3.651087 & -0.5154901 & 0.6917383 & NaN & 2.353807 & 0.604318 & NaN & NaN & NaN & ⋯ & 2.378671 & 1.402633 & 0.621125 & 0.467303 & 4.284125 & 2.560996 & 3.15713 & F & W  & 22\\\\\n",
       "\t2 & NS/NV & 3.651087 & -0.5154901 & 0.6917383 & NaN & 2.353807 & 0.604318 & NaN & NaN & NaN & ⋯ & 2.378671 & 1.402633 & 0.621125 & 0.467303 & 4.284125 & 2.560996 & 3.15713 & F & W  & 22\\\\\n",
       "\t3 & NS/NV & 3.651087 & -0.5154901 & 0.6917383 & NaN & 2.353807 & 0.604318 & NaN & NaN & NaN & ⋯ & 2.378671 & 1.402633 & 0.621125 & 0.467303 & 4.284125 & 2.560996 & 3.15713 & F & W  & 21\\\\\n",
       "\t4 & NS/NV & 3.651087 & -0.5154901 & 0.6917383 & NaN & 2.353807 & 0.604318 & NaN & NaN & NaN & ⋯ & 2.378671 & 1.402633 & 0.621125 & 0.467303 & 4.284125 & 2.560996 & 3.15713 & M & W  & 21\\\\\n",
       "\t5 & NS/NV & 3.651087 & -0.5154901 & 0.6917383 & NaN & 2.353807 & 0.604318 & NaN & NaN & NaN & ⋯ & 2.378671 & 1.402633 & 0.621125 & 0.467303 & 4.284125 & 2.560996 & 3.15713 & M & NW & 27\\\\\n",
       "\t6 & NS/NV & 3.651087 & -0.5154901 & 0.6917383 & NaN & 2.353807 & 0.604318 & NaN & NaN & NaN & ⋯ & 2.378671 & 1.402633 & 0.621125 & 0.467303 & 4.284125 & 2.560996 & 3.15713 & F & W  & 27\\\\\n",
       "\\end{tabular}\n"
      ],
      "text/markdown": [
       "\n",
       "A data.frame: 6 × 47\n",
       "\n",
       "| <!--/--> | Device &lt;fct&gt; | Albumin &lt;dbl&gt; | CRP &lt;dbl&gt; | Eotaxin &lt;dbl&gt; | Eotaxin3 &lt;dbl&gt; | Flt1 &lt;dbl&gt; | GMCSF &lt;dbl&gt; | IFNg &lt;dbl&gt; | IL10 &lt;dbl&gt; | IL12p40 &lt;dbl&gt; | ⋯ ⋯ | VEGF &lt;dbl&gt; | VEGFC &lt;dbl&gt; | VEGFD &lt;dbl&gt; | bFGF &lt;dbl&gt; | dsDNA &lt;dbl&gt; | sICAM1 &lt;dbl&gt; | sVCAM1 &lt;dbl&gt; | Sex &lt;fct&gt; | Race &lt;fct&gt; | Age &lt;int&gt; |\n",
       "|---|---|---|---|---|---|---|---|---|---|---|---|---|---|---|---|---|---|---|---|---|---|\n",
       "| 1 | NS/NV | 3.651087 | -0.5154901 | 0.6917383 | NaN | 2.353807 | 0.604318 | NaN | NaN | NaN | ⋯ | 2.378671 | 1.402633 | 0.621125 | 0.467303 | 4.284125 | 2.560996 | 3.15713 | F | W  | 22 |\n",
       "| 2 | NS/NV | 3.651087 | -0.5154901 | 0.6917383 | NaN | 2.353807 | 0.604318 | NaN | NaN | NaN | ⋯ | 2.378671 | 1.402633 | 0.621125 | 0.467303 | 4.284125 | 2.560996 | 3.15713 | F | W  | 22 |\n",
       "| 3 | NS/NV | 3.651087 | -0.5154901 | 0.6917383 | NaN | 2.353807 | 0.604318 | NaN | NaN | NaN | ⋯ | 2.378671 | 1.402633 | 0.621125 | 0.467303 | 4.284125 | 2.560996 | 3.15713 | F | W  | 21 |\n",
       "| 4 | NS/NV | 3.651087 | -0.5154901 | 0.6917383 | NaN | 2.353807 | 0.604318 | NaN | NaN | NaN | ⋯ | 2.378671 | 1.402633 | 0.621125 | 0.467303 | 4.284125 | 2.560996 | 3.15713 | M | W  | 21 |\n",
       "| 5 | NS/NV | 3.651087 | -0.5154901 | 0.6917383 | NaN | 2.353807 | 0.604318 | NaN | NaN | NaN | ⋯ | 2.378671 | 1.402633 | 0.621125 | 0.467303 | 4.284125 | 2.560996 | 3.15713 | M | NW | 27 |\n",
       "| 6 | NS/NV | 3.651087 | -0.5154901 | 0.6917383 | NaN | 2.353807 | 0.604318 | NaN | NaN | NaN | ⋯ | 2.378671 | 1.402633 | 0.621125 | 0.467303 | 4.284125 | 2.560996 | 3.15713 | F | W  | 27 |\n",
       "\n"
      ],
      "text/plain": [
       "  Device Albumin  CRP        Eotaxin   Eotaxin3 Flt1     GMCSF    IFNg IL10\n",
       "1 NS/NV  3.651087 -0.5154901 0.6917383 NaN      2.353807 0.604318 NaN  NaN \n",
       "2 NS/NV  3.651087 -0.5154901 0.6917383 NaN      2.353807 0.604318 NaN  NaN \n",
       "3 NS/NV  3.651087 -0.5154901 0.6917383 NaN      2.353807 0.604318 NaN  NaN \n",
       "4 NS/NV  3.651087 -0.5154901 0.6917383 NaN      2.353807 0.604318 NaN  NaN \n",
       "5 NS/NV  3.651087 -0.5154901 0.6917383 NaN      2.353807 0.604318 NaN  NaN \n",
       "6 NS/NV  3.651087 -0.5154901 0.6917383 NaN      2.353807 0.604318 NaN  NaN \n",
       "  IL12p40 ⋯ VEGF     VEGFC    VEGFD    bFGF     dsDNA    sICAM1   sVCAM1  Sex\n",
       "1 NaN     ⋯ 2.378671 1.402633 0.621125 0.467303 4.284125 2.560996 3.15713 F  \n",
       "2 NaN     ⋯ 2.378671 1.402633 0.621125 0.467303 4.284125 2.560996 3.15713 F  \n",
       "3 NaN     ⋯ 2.378671 1.402633 0.621125 0.467303 4.284125 2.560996 3.15713 F  \n",
       "4 NaN     ⋯ 2.378671 1.402633 0.621125 0.467303 4.284125 2.560996 3.15713 M  \n",
       "5 NaN     ⋯ 2.378671 1.402633 0.621125 0.467303 4.284125 2.560996 3.15713 M  \n",
       "6 NaN     ⋯ 2.378671 1.402633 0.621125 0.467303 4.284125 2.560996 3.15713 F  \n",
       "  Race Age\n",
       "1 W    22 \n",
       "2 W    22 \n",
       "3 W    21 \n",
       "4 W    21 \n",
       "5 NW   27 \n",
       "6 W    27 "
      ]
     },
     "metadata": {},
     "output_type": "display_data"
    }
   ],
   "source": [
    "# scaling data\n",
    "# I SCALED, BUT I THINK YOU TRANSFORMED SO THIS PREPARATION STEP LIKELY NEEDS TO BE CHANGED\n",
    "# I also didn't have time to do all the data preparation steps that you did, so that needs to be done here too and \n",
    "# then follow the code before after transformation/ imputation etc. \n",
    "all_data[2:44] = apply(all_data[2:44], scale, 2)\n",
    "head(all_data)"
   ]
  },
  {
   "cell_type": "code",
   "execution_count": 8,
   "id": "06f9f275",
   "metadata": {},
   "outputs": [
    {
     "data": {
      "text/html": [
       "<table class=\"dataframe\">\n",
       "<caption>A matrix: 4 × 3 of type dbl</caption>\n",
       "<thead>\n",
       "\t<tr><th></th><th scope=col>4th Gen</th><th scope=col>NS/NV</th><th scope=col>SM</th></tr>\n",
       "</thead>\n",
       "<tbody>\n",
       "\t<tr><th scope=row>3rd Gen</th><td>0</td><td>0</td><td>0</td></tr>\n",
       "\t<tr><th scope=row>4th Gen</th><td>1</td><td>0</td><td>0</td></tr>\n",
       "\t<tr><th scope=row>NS/NV</th><td>0</td><td>1</td><td>0</td></tr>\n",
       "\t<tr><th scope=row>SM</th><td>0</td><td>0</td><td>1</td></tr>\n",
       "</tbody>\n",
       "</table>\n"
      ],
      "text/latex": [
       "A matrix: 4 × 3 of type dbl\n",
       "\\begin{tabular}{r|lll}\n",
       "  & 4th Gen & NS/NV & SM\\\\\n",
       "\\hline\n",
       "\t3rd Gen & 0 & 0 & 0\\\\\n",
       "\t4th Gen & 1 & 0 & 0\\\\\n",
       "\tNS/NV & 0 & 1 & 0\\\\\n",
       "\tSM & 0 & 0 & 1\\\\\n",
       "\\end{tabular}\n"
      ],
      "text/markdown": [
       "\n",
       "A matrix: 4 × 3 of type dbl\n",
       "\n",
       "| <!--/--> | 4th Gen | NS/NV | SM |\n",
       "|---|---|---|---|\n",
       "| 3rd Gen | 0 | 0 | 0 |\n",
       "| 4th Gen | 1 | 0 | 0 |\n",
       "| NS/NV | 0 | 1 | 0 |\n",
       "| SM | 0 | 0 | 1 |\n",
       "\n"
      ],
      "text/plain": [
       "        4th Gen NS/NV SM\n",
       "3rd Gen 0       0     0 \n",
       "4th Gen 1       0     0 \n",
       "NS/NV   0       1     0 \n",
       "SM      0       0     1 "
      ]
     },
     "metadata": {},
     "output_type": "display_data"
    }
   ],
   "source": [
    "contrasts(all_data$Device)"
   ]
  },
  {
   "cell_type": "code",
   "execution_count": 9,
   "id": "ef67cea0",
   "metadata": {},
   "outputs": [
    {
     "data": {
      "text/html": [
       "<table class=\"dataframe\">\n",
       "<caption>A data.frame: 6 × 4</caption>\n",
       "<thead>\n",
       "\t<tr><th></th><th scope=col>Cytokine</th><th scope=col>Model</th><th scope=col>P Value</th><th scope=col>P Adjust</th></tr>\n",
       "\t<tr><th></th><th scope=col>&lt;chr&gt;</th><th scope=col>&lt;chr&gt;</th><th scope=col>&lt;chr&gt;</th><th scope=col>&lt;dbl&gt;</th></tr>\n",
       "</thead>\n",
       "<tbody>\n",
       "\t<tr><th scope=row>1</th><td>Albumin </td><td>Anova</td><td>6.34897512150271e-36</td><td>1.240936e-35</td></tr>\n",
       "\t<tr><th scope=row>2</th><td>CRP     </td><td>Anova</td><td>1.51935122308594e-77</td><td>1.633303e-76</td></tr>\n",
       "\t<tr><th scope=row>3</th><td>Eotaxin </td><td>Anova</td><td>1.40444437301342e-08</td><td>1.589240e-08</td></tr>\n",
       "\t<tr><th scope=row>4</th><td>Eotaxin3</td><td>Anova</td><td>5.19117253374745e-10</td><td>6.032984e-10</td></tr>\n",
       "\t<tr><th scope=row>5</th><td>Flt1    </td><td>Anova</td><td>1.1582679542062e-63 </td><td>7.115075e-63</td></tr>\n",
       "\t<tr><th scope=row>6</th><td>GMCSF   </td><td>Anova</td><td>9.21010013421632e-21</td><td>1.320114e-20</td></tr>\n",
       "</tbody>\n",
       "</table>\n"
      ],
      "text/latex": [
       "A data.frame: 6 × 4\n",
       "\\begin{tabular}{r|llll}\n",
       "  & Cytokine & Model & P Value & P Adjust\\\\\n",
       "  & <chr> & <chr> & <chr> & <dbl>\\\\\n",
       "\\hline\n",
       "\t1 & Albumin  & Anova & 6.34897512150271e-36 & 1.240936e-35\\\\\n",
       "\t2 & CRP      & Anova & 1.51935122308594e-77 & 1.633303e-76\\\\\n",
       "\t3 & Eotaxin  & Anova & 1.40444437301342e-08 & 1.589240e-08\\\\\n",
       "\t4 & Eotaxin3 & Anova & 5.19117253374745e-10 & 6.032984e-10\\\\\n",
       "\t5 & Flt1     & Anova & 1.1582679542062e-63  & 7.115075e-63\\\\\n",
       "\t6 & GMCSF    & Anova & 9.21010013421632e-21 & 1.320114e-20\\\\\n",
       "\\end{tabular}\n"
      ],
      "text/markdown": [
       "\n",
       "A data.frame: 6 × 4\n",
       "\n",
       "| <!--/--> | Cytokine &lt;chr&gt; | Model &lt;chr&gt; | P Value &lt;chr&gt; | P Adjust &lt;dbl&gt; |\n",
       "|---|---|---|---|---|\n",
       "| 1 | Albumin  | Anova | 6.34897512150271e-36 | 1.240936e-35 |\n",
       "| 2 | CRP      | Anova | 1.51935122308594e-77 | 1.633303e-76 |\n",
       "| 3 | Eotaxin  | Anova | 1.40444437301342e-08 | 1.589240e-08 |\n",
       "| 4 | Eotaxin3 | Anova | 5.19117253374745e-10 | 6.032984e-10 |\n",
       "| 5 | Flt1     | Anova | 1.1582679542062e-63  | 7.115075e-63 |\n",
       "| 6 | GMCSF    | Anova | 9.21010013421632e-21 | 1.320114e-20 |\n",
       "\n"
      ],
      "text/plain": [
       "  Cytokine Model P Value              P Adjust    \n",
       "1 Albumin  Anova 6.34897512150271e-36 1.240936e-35\n",
       "2 CRP      Anova 1.51935122308594e-77 1.633303e-76\n",
       "3 Eotaxin  Anova 1.40444437301342e-08 1.589240e-08\n",
       "4 Eotaxin3 Anova 5.19117253374745e-10 6.032984e-10\n",
       "5 Flt1     Anova 1.1582679542062e-63  7.115075e-63\n",
       "6 GMCSF    Anova 9.21010013421632e-21 1.320114e-20"
      ]
     },
     "metadata": {},
     "output_type": "display_data"
    }
   ],
   "source": [
    "cytokine_anova = data.frame()\n",
    "\n",
    "for(i in 1:length(cytokines)){\n",
    "    anova_results = aov(as.formula(paste0(cytokines[i],\"~\", \"Device\")), data = all_data)\n",
    "    anova_type3 = Anova(anova_results, type = 'III')\n",
    "\n",
    "    cytokine_summary = anova_type3[2,3:4]\n",
    "    p_value = cytokine_summary$`Pr(>F)`\n",
    "\n",
    "    cytokine_anova_values = cbind(\"Cytokine\" = cytokines[i], \"Model\" = \"Anova\", \"P Value\" = p_value)\n",
    "    cytokine_anova = rbind(cytokine_anova, cytokine_anova_values)\n",
    "\n",
    "}\n",
    "\n",
    "#adding adjusted p values and model\n",
    "cytokine_anova$`P Adjust` = p.adjust(cytokine_anova$`P Value`, method = \"BH\")\n",
    "\n",
    "head(cytokine_anova)"
   ]
  },
  {
   "cell_type": "code",
   "execution_count": 10,
   "id": "41789e91",
   "metadata": {},
   "outputs": [
    {
     "data": {
      "text/html": [
       "<table class=\"dataframe\">\n",
       "<caption>A grouped_df: 6 × 4</caption>\n",
       "<thead>\n",
       "\t<tr><th scope=col>Cytokine</th><th scope=col>Model</th><th scope=col>P Value</th><th scope=col>P Adjust</th></tr>\n",
       "\t<tr><th scope=col>&lt;chr&gt;</th><th scope=col>&lt;chr&gt;</th><th scope=col>&lt;chr&gt;</th><th scope=col>&lt;dbl&gt;</th></tr>\n",
       "</thead>\n",
       "<tbody>\n",
       "\t<tr><td>Albumin</td><td>Sex </td><td>1.83544632635272e-35</td><td>3.758295e-35</td></tr>\n",
       "\t<tr><td>Albumin</td><td>Race</td><td>1.16256011209754e-34</td><td>2.173482e-34</td></tr>\n",
       "\t<tr><td>Albumin</td><td>Age </td><td>8.99205259196075e-32</td><td>1.757538e-31</td></tr>\n",
       "\t<tr><td>CRP    </td><td>Sex </td><td>2.50207299608648e-77</td><td>2.689728e-76</td></tr>\n",
       "\t<tr><td>CRP    </td><td>Race</td><td>2.21460700141936e-75</td><td>2.380703e-74</td></tr>\n",
       "\t<tr><td>CRP    </td><td>Age </td><td>3.17470789491088e-66</td><td>3.412811e-65</td></tr>\n",
       "</tbody>\n",
       "</table>\n"
      ],
      "text/latex": [
       "A grouped\\_df: 6 × 4\n",
       "\\begin{tabular}{llll}\n",
       " Cytokine & Model & P Value & P Adjust\\\\\n",
       " <chr> & <chr> & <chr> & <dbl>\\\\\n",
       "\\hline\n",
       "\t Albumin & Sex  & 1.83544632635272e-35 & 3.758295e-35\\\\\n",
       "\t Albumin & Race & 1.16256011209754e-34 & 2.173482e-34\\\\\n",
       "\t Albumin & Age  & 8.99205259196075e-32 & 1.757538e-31\\\\\n",
       "\t CRP     & Sex  & 2.50207299608648e-77 & 2.689728e-76\\\\\n",
       "\t CRP     & Race & 2.21460700141936e-75 & 2.380703e-74\\\\\n",
       "\t CRP     & Age  & 3.17470789491088e-66 & 3.412811e-65\\\\\n",
       "\\end{tabular}\n"
      ],
      "text/markdown": [
       "\n",
       "A grouped_df: 6 × 4\n",
       "\n",
       "| Cytokine &lt;chr&gt; | Model &lt;chr&gt; | P Value &lt;chr&gt; | P Adjust &lt;dbl&gt; |\n",
       "|---|---|---|---|\n",
       "| Albumin | Sex  | 1.83544632635272e-35 | 3.758295e-35 |\n",
       "| Albumin | Race | 1.16256011209754e-34 | 2.173482e-34 |\n",
       "| Albumin | Age  | 8.99205259196075e-32 | 1.757538e-31 |\n",
       "| CRP     | Sex  | 2.50207299608648e-77 | 2.689728e-76 |\n",
       "| CRP     | Race | 2.21460700141936e-75 | 2.380703e-74 |\n",
       "| CRP     | Age  | 3.17470789491088e-66 | 3.412811e-65 |\n",
       "\n"
      ],
      "text/plain": [
       "  Cytokine Model P Value              P Adjust    \n",
       "1 Albumin  Sex   1.83544632635272e-35 3.758295e-35\n",
       "2 Albumin  Race  1.16256011209754e-34 2.173482e-34\n",
       "3 Albumin  Age   8.99205259196075e-32 1.757538e-31\n",
       "4 CRP      Sex   2.50207299608648e-77 2.689728e-76\n",
       "5 CRP      Race  2.21460700141936e-75 2.380703e-74\n",
       "6 CRP      Age   3.17470789491088e-66 3.412811e-65"
      ]
     },
     "metadata": {},
     "output_type": "display_data"
    }
   ],
   "source": [
    "#adjusting for sex age and race\n",
    "cytokine_ancova = data.frame()\n",
    "covariates = c(\"Sex\", \"Race\", \"Age\")\n",
    "\n",
    "for(i in 1:length(cytokines)){\n",
    "    for(j in 1:length(covariates)){\n",
    "        anova_results = aov(as.formula(paste0(cytokines[i], \"~\", \"Device\",\"+\", covariates[j])), data = all_data)\n",
    "        anova_type3 = Anova(anova_results, type = 'III')\n",
    "\n",
    "        cytokine_summary = anova_type3[2,3:4]\n",
    "        p_value = cytokine_summary$`Pr(>F)`\n",
    "\n",
    "        cytokine_ancova_values = cbind(\"Cytokine\" = cytokines[i], \"Model\" = covariates[j], \"P Value\" = p_value)\n",
    "        cytokine_ancova = rbind(cytokine_ancova, cytokine_ancova_values)\n",
    "    }\n",
    "}\n",
    "\n",
    "#adding adjusted p values within each model\n",
    "cytokine_ancova = cytokine_ancova %>%\n",
    "    group_by(Model) %>%\n",
    "    mutate(`P Adjust` = p.adjust(`P Value`, method = \"BH\"))\n",
    "\n",
    "head(cytokine_ancova)"
   ]
  },
  {
   "cell_type": "code",
   "execution_count": 11,
   "id": "1e559f68",
   "metadata": {},
   "outputs": [
    {
     "data": {
      "text/html": [
       "<table class=\"dataframe\">\n",
       "<caption>A data.frame: 6 × 4</caption>\n",
       "<thead>\n",
       "\t<tr><th></th><th scope=col>Cytokine</th><th scope=col>Model</th><th scope=col>P Value</th><th scope=col>P Adjust</th></tr>\n",
       "\t<tr><th></th><th scope=col>&lt;chr&gt;</th><th scope=col>&lt;chr&gt;</th><th scope=col>&lt;chr&gt;</th><th scope=col>&lt;dbl&gt;</th></tr>\n",
       "</thead>\n",
       "<tbody>\n",
       "\t<tr><th scope=row>1</th><td>Albumin </td><td>Anova</td><td>6.34897512150271e-36</td><td>1.240936e-35</td></tr>\n",
       "\t<tr><th scope=row>2</th><td>CRP     </td><td>Anova</td><td>1.51935122308594e-77</td><td>1.633303e-76</td></tr>\n",
       "\t<tr><th scope=row>3</th><td>Eotaxin </td><td>Anova</td><td>1.40444437301342e-08</td><td>1.589240e-08</td></tr>\n",
       "\t<tr><th scope=row>4</th><td>Eotaxin3</td><td>Anova</td><td>5.19117253374745e-10</td><td>6.032984e-10</td></tr>\n",
       "\t<tr><th scope=row>5</th><td>Flt1    </td><td>Anova</td><td>1.1582679542062e-63 </td><td>7.115075e-63</td></tr>\n",
       "\t<tr><th scope=row>6</th><td>GMCSF   </td><td>Anova</td><td>9.21010013421632e-21</td><td>1.320114e-20</td></tr>\n",
       "</tbody>\n",
       "</table>\n"
      ],
      "text/latex": [
       "A data.frame: 6 × 4\n",
       "\\begin{tabular}{r|llll}\n",
       "  & Cytokine & Model & P Value & P Adjust\\\\\n",
       "  & <chr> & <chr> & <chr> & <dbl>\\\\\n",
       "\\hline\n",
       "\t1 & Albumin  & Anova & 6.34897512150271e-36 & 1.240936e-35\\\\\n",
       "\t2 & CRP      & Anova & 1.51935122308594e-77 & 1.633303e-76\\\\\n",
       "\t3 & Eotaxin  & Anova & 1.40444437301342e-08 & 1.589240e-08\\\\\n",
       "\t4 & Eotaxin3 & Anova & 5.19117253374745e-10 & 6.032984e-10\\\\\n",
       "\t5 & Flt1     & Anova & 1.1582679542062e-63  & 7.115075e-63\\\\\n",
       "\t6 & GMCSF    & Anova & 9.21010013421632e-21 & 1.320114e-20\\\\\n",
       "\\end{tabular}\n"
      ],
      "text/markdown": [
       "\n",
       "A data.frame: 6 × 4\n",
       "\n",
       "| <!--/--> | Cytokine &lt;chr&gt; | Model &lt;chr&gt; | P Value &lt;chr&gt; | P Adjust &lt;dbl&gt; |\n",
       "|---|---|---|---|---|\n",
       "| 1 | Albumin  | Anova | 6.34897512150271e-36 | 1.240936e-35 |\n",
       "| 2 | CRP      | Anova | 1.51935122308594e-77 | 1.633303e-76 |\n",
       "| 3 | Eotaxin  | Anova | 1.40444437301342e-08 | 1.589240e-08 |\n",
       "| 4 | Eotaxin3 | Anova | 5.19117253374745e-10 | 6.032984e-10 |\n",
       "| 5 | Flt1     | Anova | 1.1582679542062e-63  | 7.115075e-63 |\n",
       "| 6 | GMCSF    | Anova | 9.21010013421632e-21 | 1.320114e-20 |\n",
       "\n"
      ],
      "text/plain": [
       "  Cytokine Model P Value              P Adjust    \n",
       "1 Albumin  Anova 6.34897512150271e-36 1.240936e-35\n",
       "2 CRP      Anova 1.51935122308594e-77 1.633303e-76\n",
       "3 Eotaxin  Anova 1.40444437301342e-08 1.589240e-08\n",
       "4 Eotaxin3 Anova 5.19117253374745e-10 6.032984e-10\n",
       "5 Flt1     Anova 1.1582679542062e-63  7.115075e-63\n",
       "6 GMCSF    Anova 9.21010013421632e-21 1.320114e-20"
      ]
     },
     "metadata": {},
     "output_type": "display_data"
    }
   ],
   "source": [
    "# combining ANOVA/ANCOVA\n",
    "anova_results = rbind(cytokine_anova, cytokine_ancova)\n",
    "head(anova_results)"
   ]
  },
  {
   "cell_type": "code",
   "execution_count": null,
   "id": "bc5b8e02",
   "metadata": {},
   "outputs": [],
   "source": []
  }
 ],
 "metadata": {
  "kernelspec": {
   "display_name": "R",
   "language": "R",
   "name": "ir"
  },
  "language_info": {
   "codemirror_mode": "r",
   "file_extension": ".r",
   "mimetype": "text/x-r-source",
   "name": "R",
   "pygments_lexer": "r",
   "version": "4.1.2"
  }
 },
 "nbformat": 4,
 "nbformat_minor": 5
}
